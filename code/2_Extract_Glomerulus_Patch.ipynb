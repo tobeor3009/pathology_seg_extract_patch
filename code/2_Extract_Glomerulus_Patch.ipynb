{
 "cells": [
  {
   "cell_type": "code",
   "execution_count": 1,
   "metadata": {},
   "outputs": [
    {
     "name": "stderr",
     "output_type": "stream",
     "text": [
      "/tmp/ipykernel_571/3871237404.py:22: DeprecationWarning: Please import `binary_closing` from the `scipy.ndimage` namespace; the `scipy.ndimage.morphology` namespace is deprecated and will be removed in SciPy 2.0.0.\n",
      "  from scipy.ndimage.morphology import binary_closing, binary_opening\n",
      "/tmp/ipykernel_571/3871237404.py:22: DeprecationWarning: Please import `binary_opening` from the `scipy.ndimage` namespace; the `scipy.ndimage.morphology` namespace is deprecated and will be removed in SciPy 2.0.0.\n",
      "  from scipy.ndimage.morphology import binary_closing, binary_opening\n",
      "2024-12-05 14:10:15.648351: E tensorflow/compiler/xla/stream_executor/cuda/cuda_dnn.cc:9342] Unable to register cuDNN factory: Attempting to register factory for plugin cuDNN when one has already been registered\n",
      "2024-12-05 14:10:15.648475: E tensorflow/compiler/xla/stream_executor/cuda/cuda_fft.cc:609] Unable to register cuFFT factory: Attempting to register factory for plugin cuFFT when one has already been registered\n",
      "2024-12-05 14:10:15.648715: E tensorflow/compiler/xla/stream_executor/cuda/cuda_blas.cc:1518] Unable to register cuBLAS factory: Attempting to register factory for plugin cuBLAS when one has already been registered\n",
      "2024-12-05 14:10:15.694868: I tensorflow/core/platform/cpu_feature_guard.cc:182] This TensorFlow binary is optimized to use available CPU instructions in performance-critical operations.\n",
      "To enable the following instructions: AVX2 FMA, in other operations, rebuild TensorFlow with the appropriate compiler flags.\n",
      "2024-12-05 14:10:17.327803: W tensorflow/compiler/tf2tensorrt/utils/py_utils.cc:38] TF-TRT Warning: Could not find TensorRT\n"
     ]
    }
   ],
   "source": [
    "import openslide\n",
    "import tifffile\n",
    "import matplotlib.pyplot as plt\n",
    "import numpy as np\n",
    "import cv2\n",
    "import os\n",
    "import csv\n",
    "import math\n",
    "import json\n",
    "import random\n",
    "import shutil\n",
    "import scipy.misc\n",
    "import scipy.ndimage\n",
    "from skimage import io\n",
    "from skimage import morphology\n",
    "from skimage import measure\n",
    "import mahotas.polygon as ploygon_to_mask\n",
    "import re\n",
    "import mahotas.polygon as mp\n",
    "from skimage.morphology import remove_small_holes, remove_small_objects\n",
    "from scipy.ndimage import binary_dilation\n",
    "from scipy.ndimage.morphology import binary_closing, binary_opening\n",
    "\n",
    "from lxml import etree\n",
    "from tqdm import tqdm\n",
    "from glob import glob\n",
    "from PIL import Image\n",
    "import imutils\n",
    "\n",
    "from util import read_json_as_dict, get_tissue_mask, get_parent_dir_name\n",
    "from data_util import get_mask_image, get_rec_info_list, remove_orange_peel, resize_with_preserve_rgb_value\n",
    "from data_util import get_size4mpp, get_wsi_info_read_region"
   ]
  },
  {
   "cell_type": "markdown",
   "metadata": {},
   "source": [
    "# Define Function"
   ]
  },
  {
   "cell_type": "code",
   "execution_count": 2,
   "metadata": {},
   "outputs": [],
   "source": [
    "def get_mask_array(path_json, roi_array, verbose=1):\n",
    "    \n",
    "    mask_value = 255\n",
    "    \n",
    "    geo_json_string = open(path_json)\n",
    "    geo_json = json.load(geo_json_string)\n",
    "    try:\n",
    "        mask_array_transposed = np.zeros(roi_array.shape, dtype=np.uint8)\n",
    "        for item in geo_json:\n",
    "            for coordinates in item[\"geometry\"][\"coordinates\"]:\n",
    "                pts = [(round(loc[1]), round(loc[0])) for loc in coordinates]\n",
    "                mp.fill_polygon(pts, mask_array_transposed, mask_value)\n",
    "\n",
    "        mask_bool = (mask_array_transposed > 0).astype('uint8') \n",
    "        roi_bool = (roi_array > 0).astype('uint8') \n",
    "        mask_area = np.sum(mask_bool) \n",
    "\n",
    "        mask_in_roi = (mask_bool + roi_bool) == 2\n",
    "        mask_in_roi_ratio_transposed = (np.sum(mask_in_roi) / mask_area)\n",
    "    except IndexError:\n",
    "        mask_in_roi_ratio_transposed = 0\n",
    "        \n",
    "    try:\n",
    "        mask_array = np.zeros(roi_array.shape, dtype=np.uint8)\n",
    "        for item in geo_json:\n",
    "            for coordinates in item[\"geometry\"][\"coordinates\"]:\n",
    "                pts = [(round(loc[0]), round(loc[1])) for loc in coordinates]\n",
    "                mp.fill_polygon(pts, mask_array, mask_value)\n",
    "\n",
    "        mask_bool = (mask_array > 0).astype('uint8') \n",
    "        roi_bool = (roi_array > 0).astype('uint8') \n",
    "        mask_area = np.sum(mask_bool) \n",
    "\n",
    "        mask_in_roi = (mask_bool + roi_bool) == 2\n",
    "        mask_in_roi_ratio = (np.sum(mask_in_roi) / mask_area)\n",
    "    except IndexError:\n",
    "        mask_in_roi_ratio = 0\n",
    "        \n",
    "    if verbose:\n",
    "        print(f\"mask_in_roi_ratio_transposed: {mask_in_roi_ratio_transposed}\")\n",
    "        print(f\"mask_in_roi_ratio: {mask_in_roi_ratio}\")\n",
    "        \n",
    "    if mask_in_roi_ratio_transposed > mask_in_roi_ratio:\n",
    "        return mask_array_transposed\n",
    "    else:\n",
    "        return mask_array\n",
    "\n",
    "def get_roi_idx_tuple(tissue_mask_array):\n",
    "    tissue_mask_bool_array = tissue_mask_array != 0\n",
    "    row_mask_exist_idx_array = np.any(tissue_mask_bool_array, axis=1)\n",
    "    col_mask_exist_idx_array = np.any(tissue_mask_bool_array, axis=0)\n",
    "    min_row_index, max_row_index = np.where(row_mask_exist_idx_array)[0][[0, -1]]\n",
    "    min_col_index, max_col_index = np.where(col_mask_exist_idx_array)[0][[0, -1]]\n",
    "    return min_row_index, max_row_index, min_col_index, max_col_index\n",
    "\n",
    "def get_row_col_range(min_row_index, max_row_index, min_col_index, max_col_index, stride):\n",
    "    row_fill = (max_row_index - min_row_index) % stride\n",
    "    col_fill = (max_col_index - min_col_index) % stride\n",
    "    \n",
    "    start_row_idx = min_row_index - stride\n",
    "    end_row_idx = max_row_index + row_fill + stride + 1\n",
    "    start_col_idx = min_col_index - stride\n",
    "    end_col_idx = max_col_index + col_fill + stride + 1\n",
    "    \n",
    "    row_range = range(start_row_idx, end_row_idx, stride)\n",
    "    col_range = range(start_col_idx, end_col_idx, stride)\n",
    "    \n",
    "    return row_range, col_range"
   ]
  },
  {
   "cell_type": "markdown",
   "metadata": {},
   "source": [
    "# Setting Config"
   ]
  },
  {
   "cell_type": "code",
   "execution_count": 3,
   "metadata": {
    "scrolled": true
   },
   "outputs": [
    {
     "name": "stdout",
     "output_type": "stream",
     "text": [
      "mpp_standard: 0.65\n",
      "train_wsi_path: ../data/0_source_data/hubmap-kidney-segmentation/train\n",
      "test_wsi_path: ../data/0_source_data/hubmap-kidney-segmentation/test\n",
      "data_common_path: ../data\n",
      "tissue_mask_level: 2\n",
      "downsizing_per_level: 2\n",
      "level_0_patch_size: 1024\n"
     ]
    }
   ],
   "source": [
    "json_path = \"./config.json\"\n",
    "config_dict = read_json_as_dict(json_path)\n",
    "\n",
    "mpp_standard = config_dict[\"mpp_standard\"]\n",
    "train_wsi_path = config_dict['train_wsi_path']\n",
    "test_wsi_path = config_dict['test_wsi_path']\n",
    "data_common_path = config_dict['data_common_path']\n",
    "\n",
    "tissue_mask_level = config_dict[\"tissue_mask_level\"]\n",
    "downsizing_per_level = config_dict[\"downsizing_per_level\"]\n",
    "resize_scale = downsizing_per_level ** tissue_mask_level\n",
    "level_0_patch_size = config_dict[\"level_0_patch_size\"]\n",
    "\n",
    "print(f\"mpp_standard: {mpp_standard}\")\n",
    "print(f\"train_wsi_path: {train_wsi_path}\")\n",
    "print(f\"test_wsi_path: {test_wsi_path}\")\n",
    "print(f\"data_common_path: {data_common_path}\")\n",
    "print(f\"tissue_mask_level: {tissue_mask_level}\")\n",
    "print(f\"downsizing_per_level: {downsizing_per_level}\")\n",
    "print(f\"level_0_patch_size: {level_0_patch_size}\")"
   ]
  },
  {
   "cell_type": "markdown",
   "metadata": {},
   "source": [
    "# Get Tissue Mask"
   ]
  },
  {
   "cell_type": "code",
   "execution_count": 4,
   "metadata": {},
   "outputs": [],
   "source": [
    "tissue_mask_folder_basename = \"1_tissue_mask\"\n",
    "patch_folder_basename = \"2_extract_patch\"\n",
    "\n",
    "tissue_mask_folder = f\"{data_common_path}/{tissue_mask_folder_basename}\"\n",
    "patch_folder = f\"{data_common_path}/{patch_folder_basename}\"\n",
    "\n",
    "os.makedirs(tissue_mask_folder, exist_ok=True)\n",
    "os.makedirs(patch_folder, exist_ok=True)\n",
    "\n",
    "wsi_path_list = glob(f\"{train_wsi_path}/*.tiff\")\n",
    "remove_region_ratio = 0.005\n",
    "patch_stride_ratio = 0.5\n",
    "patch_num_in_one_folder = 5000\n",
    "use_memmap = False\n",
    "\n",
    "mask_policy_dict = {\"background\": 0, \"glomerulus\": 255}"
   ]
  },
  {
   "cell_type": "code",
   "execution_count": 5,
   "metadata": {
    "scrolled": true
   },
   "outputs": [
    {
     "name": "stderr",
     "output_type": "stream",
     "text": [
      "\r",
      "0it [00:00, ?it/s]"
     ]
    },
    {
     "name": "stdout",
     "output_type": "stream",
     "text": [
      "load_wsi\n",
      "load_tissue_mask\n",
      "mask_in_roi_ratio_transposed: 0.8698520381731398\n",
      "mask_in_roi_ratio: 1.0\n",
      "load_mask\n"
     ]
    },
    {
     "name": "stderr",
     "output_type": "stream",
     "text": [
      "\n",
      "  0%|                                                                                            | 0/43 [00:00<?, ?it/s]\u001b[A/tmp/ipykernel_525/222818264.py:37: RuntimeWarning: Mean of empty slice.\n",
      "  tissue_area = (tissue_patch_array != 0).mean()\n",
      "/opt/conda/lib/python3.10/site-packages/numpy/core/_methods.py:129: RuntimeWarning: invalid value encountered in scalar divide\n",
      "  ret = ret.dtype.type(ret / rcount)\n",
      "\n",
      "  5%|███▉                                                                                | 2/43 [00:03<01:16,  1.88s/it]\u001b[A\n",
      "  7%|█████▊                                                                              | 3/43 [00:07<01:48,  2.70s/it]\u001b[A\n",
      "  9%|███████▊                                                                            | 4/43 [00:12<02:18,  3.54s/it]\u001b[A\n",
      " 12%|█████████▊                                                                          | 5/43 [00:17<02:38,  4.17s/it]\u001b[A\n",
      " 14%|███████████▋                                                                        | 6/43 [00:24<02:59,  4.85s/it]\u001b[A\n",
      " 16%|█████████████▋                                                                      | 7/43 [00:30<03:09,  5.26s/it]\u001b[A\n",
      " 19%|███████████████▋                                                                    | 8/43 [00:36<03:19,  5.69s/it]\u001b[A\n",
      " 21%|█████████████████▌                                                                  | 9/43 [00:43<03:23,  5.98s/it]\u001b[A\n",
      " 23%|███████████████████▎                                                               | 10/43 [00:49<03:21,  6.11s/it]\u001b[A\n",
      " 26%|█████████████████████▏                                                             | 11/43 [00:56<03:16,  6.14s/it]\u001b[A\n",
      " 28%|███████████████████████▏                                                           | 12/43 [01:02<03:13,  6.25s/it]\u001b[A\n",
      " 30%|█████████████████████████                                                          | 13/43 [01:09<03:08,  6.29s/it]\u001b[A\n",
      " 33%|███████████████████████████                                                        | 14/43 [01:16<03:09,  6.52s/it]\u001b[A\n",
      " 35%|████████████████████████████▉                                                      | 15/43 [01:22<03:04,  6.59s/it]\u001b[A\n",
      " 37%|██████████████████████████████▉                                                    | 16/43 [01:30<03:03,  6.79s/it]\u001b[A\n",
      " 40%|████████████████████████████████▊                                                  | 17/43 [01:36<02:55,  6.76s/it]\u001b[A\n",
      " 42%|██████████████████████████████████▋                                                | 18/43 [01:43<02:49,  6.77s/it]\u001b[A\n",
      " 44%|████████████████████████████████████▋                                              | 19/43 [01:49<02:36,  6.52s/it]\u001b[A\n",
      " 47%|██████████████████████████████████████▌                                            | 20/43 [01:56<02:30,  6.56s/it]\u001b[A\n",
      " 49%|████████████████████████████████████████▌                                          | 21/43 [02:02<02:25,  6.63s/it]\u001b[A\n",
      " 51%|██████████████████████████████████████████▍                                        | 22/43 [02:09<02:19,  6.62s/it]\u001b[A\n",
      " 53%|████████████████████████████████████████████▍                                      | 23/43 [02:16<02:14,  6.74s/it]\u001b[A\n",
      " 56%|██████████████████████████████████████████████▎                                    | 24/43 [02:23<02:08,  6.77s/it]\u001b[A\n",
      " 58%|████████████████████████████████████████████████▎                                  | 25/43 [02:29<01:59,  6.66s/it]\u001b[A\n",
      " 60%|██████████████████████████████████████████████████▏                                | 26/43 [02:35<01:49,  6.45s/it]\u001b[A\n",
      " 63%|████████████████████████████████████████████████████                               | 27/43 [02:42<01:44,  6.53s/it]\u001b[A\n",
      " 65%|██████████████████████████████████████████████████████                             | 28/43 [02:48<01:36,  6.42s/it]\u001b[A\n",
      " 67%|███████████████████████████████████████████████████████▉                           | 29/43 [02:55<01:30,  6.46s/it]\u001b[A\n",
      " 70%|█████████████████████████████████████████████████████████▉                         | 30/43 [03:01<01:24,  6.48s/it]\u001b[A\n",
      " 72%|███████████████████████████████████████████████████████████▊                       | 31/43 [03:08<01:18,  6.55s/it]\u001b[A\n",
      " 74%|█████████████████████████████████████████████████████████████▊                     | 32/43 [03:14<01:11,  6.51s/it]\u001b[A\n",
      " 77%|███████████████████████████████████████████████████████████████▋                   | 33/43 [03:20<01:04,  6.40s/it]\u001b[A\n",
      " 79%|█████████████████████████████████████████████████████████████████▋                 | 34/43 [03:25<00:52,  5.86s/it]\u001b[A\n",
      " 81%|███████████████████████████████████████████████████████████████████▌               | 35/43 [03:30<00:44,  5.53s/it]\u001b[A\n",
      " 84%|█████████████████████████████████████████████████████████████████████▍             | 36/43 [03:34<00:35,  5.10s/it]\u001b[A\n",
      " 86%|███████████████████████████████████████████████████████████████████████▍           | 37/43 [03:36<00:25,  4.33s/it]\u001b[A\n",
      " 88%|█████████████████████████████████████████████████████████████████████████▎         | 38/43 [03:38<00:17,  3.60s/it]\u001b[A\n",
      "100%|███████████████████████████████████████████████████████████████████████████████████| 43/43 [03:39<00:00,  5.11s/it]\u001b[A\n",
      "1it [03:53, 233.92s/it]\n"
     ]
    }
   ],
   "source": [
    "for wsi_idx, wsi_path in tqdm(enumerate(wsi_path_list)):\n",
    "    wsi_basename = os.path.basename(wsi_path)\n",
    "    \n",
    "    annotation_json_path = wsi_path.replace(\".tiff\", \".json\")\n",
    "    wsi_basename = get_parent_dir_name(wsi_path, level=0)\n",
    "    tissue_mask_basename = get_parent_dir_name(wsi_path, level=0).replace('.tiff', '_tissue_mask.png')\n",
    "    tissue_mask_path = f\"{tissue_mask_folder}/{tissue_mask_basename}\"\n",
    "    wsi_array, mpp_value = get_wsi_info_read_region(wsi_path, downsize_scale=1, use_memmap=use_memmap)\n",
    "    print(\"load_wsi\")\n",
    "    if mpp_value == \"undefined\":\n",
    "        mpp_value = 0.5\n",
    "\n",
    "    tissue_mask_array = cv2.imread(tissue_mask_path, cv2.IMREAD_GRAYSCALE)\n",
    "    tissue_mask_array = cv2.resize(tissue_mask_array, wsi_array.shape[:2][::-1], cv2.INTER_NEAREST)\n",
    "    print(\"load_tissue_mask\")\n",
    "    mask_array = get_mask_array(annotation_json_path, tissue_mask_array, verbose=1)\n",
    "    print(\"load_mask\")\n",
    "    negative_patch_folder = f\"{patch_folder}/{wsi_basename}/negative\"\n",
    "    positive_patch_folder = f\"{patch_folder}/{wsi_basename}/positive\"\n",
    "    \n",
    "    level_0_patch_size_mpp = get_size4mpp(level_0_patch_size, mpp_standard, mpp_value)\n",
    "    level_0_patch_stride = int(level_0_patch_size_mpp * patch_stride_ratio)\n",
    "    \n",
    "    min_row_index, max_row_index, min_col_index, max_col_index = get_roi_idx_tuple(tissue_mask_array)\n",
    "    \n",
    "    row_range, col_range = get_row_col_range(min_row_index, max_row_index, min_col_index, max_col_index, level_0_patch_stride)\n",
    "    negative_num = 0\n",
    "    positive_num = 0\n",
    "    patch_idx = 0\n",
    "    for row_idx in tqdm(row_range):\n",
    "        for col_idx in col_range:\n",
    "            row_slice = slice(row_idx, row_idx + level_0_patch_size_mpp)\n",
    "            col_slice = slice(col_idx, col_idx + level_0_patch_size_mpp)\n",
    "            position_tuple = (row_slice, col_slice)\n",
    "\n",
    "            tissue_patch_array = tissue_mask_array[position_tuple]\n",
    "            tissue_area = (tissue_patch_array != 0).mean()\n",
    "            if tissue_area > 0.25:\n",
    "                image_patch_array = wsi_array[position_tuple]\n",
    "                mask_patch_array = mask_array[position_tuple]\n",
    "                is_positive = (mask_patch_array != 0).mean() != 0\n",
    "                if is_positive:\n",
    "                    mask_patch_array = remove_orange_peel(mask_patch_array, mask_policy_dict,\n",
    "                                                               remove_region_ratio=remove_region_ratio)\n",
    "                    folder_idx = positive_num // patch_num_in_one_folder\n",
    "                    positive_num += 1\n",
    "                    patch_save_folder = positive_patch_folder\n",
    "                else:\n",
    "                    folder_idx = negative_num // patch_num_in_one_folder\n",
    "                    negative_num += 1\n",
    "                    patch_save_folder = negative_patch_folder\n",
    "                    \n",
    "                patch_save_folder = f\"{patch_save_folder}/{folder_idx:04d}/{patch_idx:06d}\"\n",
    "                os.makedirs(patch_save_folder, exist_ok=True)\n",
    "                \n",
    "                image_patch_path = f\"{patch_save_folder}/image.png\"\n",
    "                mask_patch_path = f\"{patch_save_folder}/mask.png\"\n",
    "                tissue_patch_path = f\"{patch_save_folder}/tissue.png\"\n",
    "\n",
    "                cv2.imwrite(image_patch_path, image_patch_array[..., ::-1])\n",
    "                cv2.imwrite(mask_patch_path, mask_patch_array)\n",
    "                cv2.imwrite(tissue_patch_path, tissue_patch_array)\n",
    "                patch_idx += 1\n"
   ]
  },
  {
   "cell_type": "markdown",
   "metadata": {},
   "source": [
    "# Unused Code"
   ]
  },
  {
   "cell_type": "code",
   "execution_count": null,
   "metadata": {},
   "outputs": [],
   "source": []
  }
 ],
 "metadata": {
  "kernelspec": {
   "display_name": "Python 3 (ipykernel)",
   "language": "python",
   "name": "python3"
  },
  "language_info": {
   "codemirror_mode": {
    "name": "ipython",
    "version": 3
   },
   "file_extension": ".py",
   "mimetype": "text/x-python",
   "name": "python",
   "nbconvert_exporter": "python",
   "pygments_lexer": "ipython3",
   "version": "3.10.13"
  }
 },
 "nbformat": 4,
 "nbformat_minor": 2
}
