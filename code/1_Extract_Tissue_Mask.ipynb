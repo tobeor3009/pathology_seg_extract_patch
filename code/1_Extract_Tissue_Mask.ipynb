{
 "cells": [
  {
   "cell_type": "markdown",
   "metadata": {},
   "source": [
    "# import Package"
   ]
  },
  {
   "cell_type": "code",
   "execution_count": 1,
   "metadata": {},
   "outputs": [
    {
     "name": "stderr",
     "output_type": "stream",
     "text": [
      "/tmp/ipykernel_571/1176178118.py:22: DeprecationWarning: Please import `binary_closing` from the `scipy.ndimage` namespace; the `scipy.ndimage.morphology` namespace is deprecated and will be removed in SciPy 2.0.0.\n",
      "  from scipy.ndimage.morphology import binary_closing, binary_opening\n",
      "/tmp/ipykernel_571/1176178118.py:22: DeprecationWarning: Please import `binary_opening` from the `scipy.ndimage` namespace; the `scipy.ndimage.morphology` namespace is deprecated and will be removed in SciPy 2.0.0.\n",
      "  from scipy.ndimage.morphology import binary_closing, binary_opening\n",
      "2024-12-04 20:43:41.521952: E tensorflow/compiler/xla/stream_executor/cuda/cuda_dnn.cc:9342] Unable to register cuDNN factory: Attempting to register factory for plugin cuDNN when one has already been registered\n",
      "2024-12-04 20:43:41.522005: E tensorflow/compiler/xla/stream_executor/cuda/cuda_fft.cc:609] Unable to register cuFFT factory: Attempting to register factory for plugin cuFFT when one has already been registered\n",
      "2024-12-04 20:43:41.522032: E tensorflow/compiler/xla/stream_executor/cuda/cuda_blas.cc:1518] Unable to register cuBLAS factory: Attempting to register factory for plugin cuBLAS when one has already been registered\n",
      "2024-12-04 20:43:41.530556: I tensorflow/core/platform/cpu_feature_guard.cc:182] This TensorFlow binary is optimized to use available CPU instructions in performance-critical operations.\n",
      "To enable the following instructions: AVX2 FMA, in other operations, rebuild TensorFlow with the appropriate compiler flags.\n",
      "2024-12-04 20:43:42.493861: W tensorflow/compiler/tf2tensorrt/utils/py_utils.cc:38] TF-TRT Warning: Could not find TensorRT\n"
     ]
    }
   ],
   "source": [
    "import openslide\n",
    "import tifffile\n",
    "import matplotlib.pyplot as plt\n",
    "import numpy as np\n",
    "import cv2\n",
    "import os\n",
    "import csv\n",
    "import math\n",
    "import json\n",
    "import random\n",
    "import shutil\n",
    "import scipy.misc\n",
    "import scipy.ndimage\n",
    "from skimage import io\n",
    "from skimage import morphology\n",
    "from skimage import measure\n",
    "import mahotas.polygon as ploygon_to_mask\n",
    "import re\n",
    "\n",
    "from skimage.morphology import remove_small_holes, remove_small_objects\n",
    "from scipy.ndimage import binary_dilation\n",
    "from scipy.ndimage.morphology import binary_closing, binary_opening\n",
    "\n",
    "from lxml import etree\n",
    "from tqdm import tqdm\n",
    "from glob import glob\n",
    "from PIL import Image\n",
    "import imutils\n",
    "\n",
    "from util import read_json_as_dict, get_tissue_mask, get_parent_dir_name\n",
    "from data_util import get_mask_image, get_rec_info_list, remove_orange_peel, resize_with_preserve_rgb_value\n",
    "from data_util import get_size4mpp, get_wsi_info_read_region"
   ]
  },
  {
   "cell_type": "markdown",
   "metadata": {},
   "source": [
    "# Define Function"
   ]
  },
  {
   "cell_type": "code",
   "execution_count": 2,
   "metadata": {},
   "outputs": [],
   "source": [
    "pass"
   ]
  },
  {
   "cell_type": "markdown",
   "metadata": {},
   "source": [
    "# Setting Config"
   ]
  },
  {
   "cell_type": "code",
   "execution_count": 3,
   "metadata": {},
   "outputs": [
    {
     "name": "stdout",
     "output_type": "stream",
     "text": [
      "mpp_standard: 0.65\n",
      "train_wsi_path: ../data/0_source_data/hubmap-kidney-segmentation/train\n",
      "test_wsi_path: ../data/0_source_data/hubmap-kidney-segmentation/test\n",
      "data_common_path: ../data\n",
      "tissue_mask_level: 2\n",
      "downsizing_per_level: 2\n",
      "level_0_patch_size: 1024\n"
     ]
    }
   ],
   "source": [
    "json_path = \"./config.json\"\n",
    "config_dict = read_json_as_dict(json_path)\n",
    "\n",
    "mpp_standard = config_dict[\"mpp_standard\"]\n",
    "train_wsi_path = config_dict['train_wsi_path']\n",
    "test_wsi_path = config_dict['test_wsi_path']\n",
    "data_common_path = config_dict['data_common_path']\n",
    "\n",
    "tissue_mask_level = config_dict[\"tissue_mask_level\"]\n",
    "downsizing_per_level = config_dict[\"downsizing_per_level\"]\n",
    "resize_scale = downsizing_per_level ** tissue_mask_level\n",
    "level_0_patch_size = config_dict[\"level_0_patch_size\"]\n",
    "\n",
    "print(f\"mpp_standard: {mpp_standard}\")\n",
    "print(f\"train_wsi_path: {train_wsi_path}\")\n",
    "print(f\"test_wsi_path: {test_wsi_path}\")\n",
    "print(f\"data_common_path: {data_common_path}\")\n",
    "print(f\"tissue_mask_level: {tissue_mask_level}\")\n",
    "print(f\"downsizing_per_level: {downsizing_per_level}\")\n",
    "print(f\"level_0_patch_size: {level_0_patch_size}\")"
   ]
  },
  {
   "cell_type": "code",
   "execution_count": 4,
   "metadata": {},
   "outputs": [],
   "source": [
    "tissue_mask_folder_basename = \"1_tissue_mask\"\n",
    "tissue_mask_folder = f\"{data_common_path}/{tissue_mask_folder_basename}\"\n",
    "os.makedirs(tissue_mask_folder, exist_ok=True)\n",
    "\n",
    "wsi_path_list = glob(f\"{train_wsi_path}/*.tiff\") + glob(f\"{test_wsi_path}/*.tiff\")\n",
    "\n",
    "use_memmap = False"
   ]
  },
  {
   "cell_type": "markdown",
   "metadata": {},
   "source": [
    "# Get Tissue Mask"
   ]
  },
  {
   "cell_type": "code",
   "execution_count": 5,
   "metadata": {},
   "outputs": [
    {
     "name": "stderr",
     "output_type": "stream",
     "text": [
      "100%|███████████████████████████████████████████████████████████████████████████████████| 20/20 [11:59<00:00, 35.96s/it]\n"
     ]
    }
   ],
   "source": [
    "for wsi_path in tqdm(wsi_path_list):\n",
    "    wsi_basename = get_parent_dir_name(wsi_path, level=0)\n",
    "    tissue_mask_basename = get_parent_dir_name(wsi_path, level=0).replace('.tiff', '_tissue_mask.png')\n",
    "    tissue_mask_path = f\"{tissue_mask_folder}/{tissue_mask_basename}\"\n",
    "    if os.path.exists(tissue_mask_path):\n",
    "        continue\n",
    "    wsi_array, mpp_value = get_wsi_info_read_region(wsi_path, resize_scale, use_memmap=use_memmap)\n",
    "    if wsi_array.shape[-1] == 4:\n",
    "        wsi_array = wsi_array[..., :3]\n",
    "    level_0_patch_size_mpp = get_size4mpp(level_0_patch_size, mpp_standard, mpp_value)\n",
    "    downsize_level_0_patch_size_mpp = int(round(level_0_patch_size_mpp / resize_scale))\n",
    "    wsi_row, wsi_col, wsi_channel = wsi_array.shape\n",
    "    \n",
    "    if wsi_array.shape[-1] != 3:\n",
    "        wsi_array = wsi_array.transpose(1, 2, 0)\n",
    "    assert wsi_array.shape[-1] == 3\n",
    "    # Change Background to White\n",
    "    background_index = np.logical_or(wsi_array.sum(axis=-1) < 50, wsi_array.sum(axis=-1) > 600)\n",
    "    wsi_array[background_index] = [255, 255, 255]\n",
    "    # Replace grayscale pixels with white pixels.\n",
    "    grayscale_index = (wsi_array.max(axis=-1) - wsi_array.min(axis=-1)) < 20\n",
    "    wsi_array[grayscale_index] = [255, 255, 255]\n",
    "    \n",
    "    wsi_tissue_mask = get_tissue_mask(wsi_array, luminosity_threshold=0.85)\n",
    "    for i in range(10):\n",
    "        wsi_tissue_mask = binary_dilation(wsi_tissue_mask)\n",
    "    \n",
    "    patch_area = downsize_level_0_patch_size_mpp ** 2\n",
    "    \n",
    "    wsi_tissue_mask = remove_small_holes(wsi_tissue_mask, area_threshold=wsi_row * wsi_col // 200)\n",
    "    wsi_tissue_mask = remove_small_objects(wsi_tissue_mask, min_size=patch_area * 0.1)\n",
    "    wsi_tissue_mask = np.round(wsi_tissue_mask * 255).astype(\"uint8\")\n",
    "    Image.fromarray(wsi_tissue_mask).save(tissue_mask_path)\n"
   ]
  },
  {
   "cell_type": "markdown",
   "metadata": {},
   "source": [
    "# Unused Code"
   ]
  },
  {
   "cell_type": "code",
   "execution_count": null,
   "metadata": {},
   "outputs": [],
   "source": []
  }
 ],
 "metadata": {
  "kernelspec": {
   "display_name": "Python 3 (ipykernel)",
   "language": "python",
   "name": "python3"
  },
  "language_info": {
   "codemirror_mode": {
    "name": "ipython",
    "version": 3
   },
   "file_extension": ".py",
   "mimetype": "text/x-python",
   "name": "python",
   "nbconvert_exporter": "python",
   "pygments_lexer": "ipython3",
   "version": "3.10.13"
  }
 },
 "nbformat": 4,
 "nbformat_minor": 2
}
